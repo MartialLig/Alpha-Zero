{
 "cells": [
  {
   "cell_type": "code",
   "execution_count": 76,
   "id": "7fb8ac9b",
   "metadata": {},
   "outputs": [],
   "source": [
    "class Othello:\n",
    "    def __init__(self):\n",
    "        # initialize the board with starting pieces\n",
    "        self.board = [[0 for _ in range(6)] for _ in range(6)]\n",
    "        self.board[2][2] = self.board[3][3] = 1\n",
    "        self.board[2][3] = self.board[3][2] = -1\n",
    "        \n",
    "        # 1 represents white, -1 represents black\n",
    "        self.turn = 1\n",
    "    \n",
    "    def display(self):\n",
    "        # display the board\n",
    "        print(\"  0 1 2 3 4 5\")\n",
    "        for i in range(6):\n",
    "            print(i, end=\" \")\n",
    "            for j in range(6):\n",
    "                if self.board[i][j] == 1:\n",
    "                    print(\"W \", end=\"\")\n",
    "                elif self.board[i][j] == -1:\n",
    "                    print(\"B \", end=\"\")\n",
    "                else:\n",
    "                    print(\"- \", end=\"\")\n",
    "            print()\n",
    "        print()\n",
    "        \n",
    "    def translation(self,x, y):\n",
    "        return x,y\n",
    "\n",
    "        \n",
    "    def show_numbers(self):\n",
    "        # display the board\n",
    "        print(\"  0  1  2  3  4  5\")\n",
    "        for i in range(6):\n",
    "            print(i, end=\" \")\n",
    "            for j in range(6):\n",
    "                nombre = i*6+j\n",
    "                if nombre//10 > 0:\n",
    "                    print(i*6+j, end=\" \")\n",
    "                else :\n",
    "                    print(i*6+j, end=\"  \")\n",
    "            print()\n",
    "        print()\n",
    "        \n",
    "    \n",
    "    def is_valid(self, x, y):\n",
    "        # check if a move is valid\n",
    "        if x < 0 or x > 5 or y < 0 or y > 5:\n",
    "            # out of bounds\n",
    "            return False\n",
    "        if self.board[x][y] != 0:\n",
    "            # already occupied\n",
    "            return False\n",
    "        \n",
    "        # check all 8 directions\n",
    "        directions = [(-1, -1), (-1, 0), (-1, 1), (0, -1), (0, 1), (1, -1), (1, 0), (1, 1)]\n",
    "        for dx, dy in directions:\n",
    "            i, j = x + dx, y + dy\n",
    "            if i < 0 or i > 5 or j < 0 or j > 5:\n",
    "                # out of bounds\n",
    "                continue\n",
    "            if self.board[i][j] == -self.turn:\n",
    "                # opponent's piece found\n",
    "                while True:\n",
    "                    i, j = i + dx, j + dy\n",
    "                    if i < 0 or i > 5 or j < 0 or j > 5:\n",
    "                        # out of bounds\n",
    "                        break\n",
    "                    if self.board[i][j] == 0:\n",
    "                        # no more pieces to flip in this direction\n",
    "                        break\n",
    "                    if self.board[i][j] == self.turn:\n",
    "                        # our piece found, the move is valid\n",
    "                        return True\n",
    "        return False\n",
    "    \n",
    "    def valid_actions(self):\n",
    "        # return a list of all valid moves\n",
    "        actions = []\n",
    "        for i in range(6):\n",
    "            for j in range(6):\n",
    "                if self.is_valid(i, j):\n",
    "                    actions.append((i, j))\n",
    "        return actions\n",
    "    \n",
    "    \n",
    "    ####A faire\n",
    "    def play(self, x, y):\n",
    "        if not self.is_valid(x, y):\n",
    "            # move is not valid\n",
    "            return False\n",
    "\n",
    "        self.board[x][y] = self.turn\n",
    "\n",
    "        # flip pieces in all 8 directions\n",
    "        directions = [(-1, -1), (-1, 0), (-1, 1), (0, -1), (0, 1), (1, -1), (1, 0), (1, 1)]\n",
    "        for dx, dy in directions:\n",
    "            i, j = x + dx, y + dy\n",
    "            if i < 0 or i > 5 or j < 0 or j > 5:\n",
    "                # out of bounds\n",
    "                continue\n",
    "            if self.board[i][j] == -self.turn:\n",
    "                # opponent's piece found\n",
    "                while True:\n",
    "                    i, j = i + dx, j + dy\n",
    "                    if i < 0 or i > 5 or j < 0 or j > 5:\n",
    "                        # out of bounds\n",
    "                        break\n",
    "                    if self.board[i][j] == 0:\n",
    "                        # no more pieces to flip in this direction\n",
    "                        break\n",
    "                    if self.board[i][j] == self.turn:\n",
    "                        # our piece found, flip pieces in between\n",
    "                        i, j = x + dx, y + dy\n",
    "                        while self.board[i][j] == -self.turn:\n",
    "                            self.board[i][j] = self.turn\n",
    "                            i, j = i + dx, j + dy\n",
    "\n",
    "        # switch turn\n",
    "        self.turn = -self.turn\n",
    "        return True\n",
    "    \n",
    "    def get_winner(self):\n",
    "        total = 0\n",
    "        for i in range(6):\n",
    "            for j in range(6):\n",
    "                total += self.board[i][j]\n",
    "                \n",
    "        if total > 0:\n",
    "            return 1\n",
    "        elif total < 0:\n",
    "            return -1\n",
    "        else:\n",
    "            return 0\n"
   ]
  },
  {
   "cell_type": "code",
   "execution_count": 77,
   "id": "4d1183aa",
   "metadata": {},
   "outputs": [],
   "source": [
    "jeu = Othello()"
   ]
  },
  {
   "cell_type": "code",
   "execution_count": 78,
   "id": "4760ef6f",
   "metadata": {},
   "outputs": [],
   "source": [
    "jeu.__init__()"
   ]
  },
  {
   "cell_type": "code",
   "execution_count": 79,
   "id": "316d4273",
   "metadata": {},
   "outputs": [
    {
     "name": "stdout",
     "output_type": "stream",
     "text": [
      "  0 1 2 3 4 5\n",
      "0 - - - - - - \n",
      "1 - - - - - - \n",
      "2 - - W B - - \n",
      "3 - - B W - - \n",
      "4 - - - - - - \n",
      "5 - - - - - - \n",
      "\n"
     ]
    }
   ],
   "source": [
    "jeu.display()"
   ]
  },
  {
   "cell_type": "code",
   "execution_count": 80,
   "id": "a1c458c1",
   "metadata": {},
   "outputs": [
    {
     "data": {
      "text/plain": [
       "[(1, 3), (2, 4), (3, 1), (4, 2)]"
      ]
     },
     "execution_count": 80,
     "metadata": {},
     "output_type": "execute_result"
    }
   ],
   "source": [
    "jeu.valid_actions()"
   ]
  },
  {
   "cell_type": "code",
   "execution_count": 81,
   "id": "29610546",
   "metadata": {},
   "outputs": [
    {
     "data": {
      "text/plain": [
       "True"
      ]
     },
     "execution_count": 81,
     "metadata": {},
     "output_type": "execute_result"
    }
   ],
   "source": [
    "jeu.play(1,3)"
   ]
  },
  {
   "cell_type": "code",
   "execution_count": 82,
   "id": "f0e1b9ce",
   "metadata": {},
   "outputs": [
    {
     "name": "stdout",
     "output_type": "stream",
     "text": [
      "  0 1 2 3 4 5\n",
      "0 - - - - - - \n",
      "1 - - - W - - \n",
      "2 - - W W - - \n",
      "3 - - B W - - \n",
      "4 - - - - - - \n",
      "5 - - - - - - \n",
      "\n"
     ]
    }
   ],
   "source": [
    "jeu.display()"
   ]
  },
  {
   "cell_type": "code",
   "execution_count": 83,
   "id": "2ce297fd",
   "metadata": {},
   "outputs": [
    {
     "data": {
      "text/plain": [
       "1"
      ]
     },
     "execution_count": 83,
     "metadata": {},
     "output_type": "execute_result"
    }
   ],
   "source": [
    "jeu.get_winner()"
   ]
  },
  {
   "cell_type": "code",
   "execution_count": 63,
   "id": "fe02237f",
   "metadata": {},
   "outputs": [
    {
     "data": {
      "text/plain": [
       "True"
      ]
     },
     "execution_count": 63,
     "metadata": {},
     "output_type": "execute_result"
    }
   ],
   "source": [
    "jeu.play(1,4)"
   ]
  },
  {
   "cell_type": "code",
   "execution_count": null,
   "id": "8aad43fc",
   "metadata": {},
   "outputs": [],
   "source": [
    "class Node:\n",
    "    def __init__(self, prior, to_play):\n",
    "        self.visit_count = 0\n",
    "        self.to_play = to_play\n",
    "        self.prior = prior\n",
    "        self.value_sum = 0\n",
    "        self.children = {}\n",
    "        self.state = None\n",
    "        \n",
    "    def haveChild(self):\n",
    "        return len(self.children)>0\n",
    "        \n"
   ]
  },
  {
   "cell_type": "code",
   "execution_count": null,
   "id": "ff7792a8",
   "metadata": {},
   "outputs": [],
   "source": [
    "class Node:\n",
    "    def __init__(self, state, parent=None):\n",
    "        self.state = state\n",
    "        self.parent = parent\n",
    "        self.children = []\n",
    "        self.wins = 0\n",
    "        self.visits = 0\n",
    "        \n",
    "    def add_child(self, child_state):\n",
    "        child = Node(child_state, self)\n",
    "        self.children.append(child)\n",
    "        return child\n",
    "    \n",
    "    def update(self, result):\n",
    "        self.visits += 1\n",
    "        self.wins += result"
   ]
  }
 ],
 "metadata": {
  "hide_input": false,
  "kernelspec": {
   "display_name": "Python 3",
   "language": "python",
   "name": "python3"
  },
  "language_info": {
   "codemirror_mode": {
    "name": "ipython",
    "version": 3
   },
   "file_extension": ".py",
   "mimetype": "text/x-python",
   "name": "python",
   "nbconvert_exporter": "python",
   "pygments_lexer": "ipython3",
   "version": "3.8.15"
  },
  "toc": {
   "base_numbering": 1,
   "nav_menu": {},
   "number_sections": true,
   "sideBar": true,
   "skip_h1_title": false,
   "title_cell": "Table of Contents",
   "title_sidebar": "Contents",
   "toc_cell": false,
   "toc_position": {},
   "toc_section_display": true,
   "toc_window_display": false
  }
 },
 "nbformat": 4,
 "nbformat_minor": 5
}
